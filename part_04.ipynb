{
 "cells": [
  {
   "cell_type": "code",
   "execution_count": 1,
   "id": "10023d01",
   "metadata": {},
   "outputs": [],
   "source": [
    "from pyspark.sql import SparkSession"
   ]
  },
  {
   "cell_type": "code",
   "execution_count": 3,
   "id": "3073d88a",
   "metadata": {},
   "outputs": [],
   "source": [
    "spark = SparkSession.builder.appName(\"Part04\").getOrCreate()"
   ]
  },
  {
   "cell_type": "code",
   "execution_count": 4,
   "id": "257e298f",
   "metadata": {},
   "outputs": [
    {
     "data": {
      "text/html": [
       "\n",
       "            <div>\n",
       "                <p><b>SparkSession - in-memory</b></p>\n",
       "                \n",
       "        <div>\n",
       "            <p><b>SparkContext</b></p>\n",
       "\n",
       "            <p><a href=\"http://DESKTOP-0V1V5PC:4040\">Spark UI</a></p>\n",
       "\n",
       "            <dl>\n",
       "              <dt>Version</dt>\n",
       "                <dd><code>v3.3.1</code></dd>\n",
       "              <dt>Master</dt>\n",
       "                <dd><code>local[2]</code></dd>\n",
       "              <dt>AppName</dt>\n",
       "                <dd><code>Part04</code></dd>\n",
       "            </dl>\n",
       "        </div>\n",
       "        \n",
       "            </div>\n",
       "        "
      ],
      "text/plain": [
       "<pyspark.sql.session.SparkSession at 0x1f0381ee100>"
      ]
     },
     "execution_count": 4,
     "metadata": {},
     "output_type": "execute_result"
    }
   ],
   "source": [
    "spark"
   ]
  },
  {
   "cell_type": "code",
   "execution_count": 5,
   "id": "bfbe63ef",
   "metadata": {},
   "outputs": [],
   "source": [
    "df_pyspark = spark.read.csv('test_two.csv',header=True,inferSchema=True)"
   ]
  },
  {
   "cell_type": "code",
   "execution_count": 6,
   "id": "33c83cb1",
   "metadata": {},
   "outputs": [
    {
     "name": "stdout",
     "output_type": "stream",
     "text": [
      "+------+-----------+------+\n",
      "|  Name|Departments|Salary|\n",
      "+------+-----------+------+\n",
      "|   Jom|         ML| 10000|\n",
      "|   Jom|        IOT|  5000|\n",
      "|Mahesh|         CV|  4000|\n",
      "|   Jom|         ML|  3000|\n",
      "|Mahesh|         DL|  2500|\n",
      "|   Tom|        IOT| 10000|\n",
      "|   Tom|        IOT|  5000|\n",
      "|   Tom|         DL|  2000|\n",
      "| Sunny|         ML| 12000|\n",
      "| Sunny|         ML| 25000|\n",
      "+------+-----------+------+\n",
      "\n"
     ]
    }
   ],
   "source": [
    "df_pyspark.show()"
   ]
  },
  {
   "cell_type": "code",
   "execution_count": 7,
   "id": "17d8f8a0",
   "metadata": {},
   "outputs": [
    {
     "name": "stdout",
     "output_type": "stream",
     "text": [
      "root\n",
      " |-- Name: string (nullable = true)\n",
      " |-- Departments: string (nullable = true)\n",
      " |-- Salary: integer (nullable = true)\n",
      "\n"
     ]
    }
   ],
   "source": [
    "df_pyspark.printSchema()"
   ]
  },
  {
   "cell_type": "code",
   "execution_count": 11,
   "id": "4eec3e5b",
   "metadata": {},
   "outputs": [
    {
     "name": "stdout",
     "output_type": "stream",
     "text": [
      "+------+-----------+\n",
      "|  Name|sum(Salary)|\n",
      "+------+-----------+\n",
      "|   Tom|      17000|\n",
      "| Sunny|      37000|\n",
      "|   Jom|      18000|\n",
      "|Mahesh|       6500|\n",
      "+------+-----------+\n",
      "\n"
     ]
    }
   ],
   "source": [
    "## Group By Name operation\n",
    "\n",
    "'''\n",
    "aggregate function is applied followed by groupBy first.\n",
    "'''\n",
    "\n",
    "\n",
    "'''\n",
    "who is having maximum salary among names ?\n",
    "we can group to find maximum salary\n",
    "'''\n",
    "df_pyspark.groupBy('Name').sum().show()"
   ]
  },
  {
   "cell_type": "code",
   "execution_count": 15,
   "id": "013a45d3",
   "metadata": {},
   "outputs": [
    {
     "name": "stdout",
     "output_type": "stream",
     "text": [
      "+-----------+-----------+\n",
      "|Departments|sum(Salary)|\n",
      "+-----------+-----------+\n",
      "|        IOT|      20000|\n",
      "|         CV|       4000|\n",
      "|         DL|       4500|\n",
      "|         ML|      50000|\n",
      "+-----------+-----------+\n",
      "\n",
      "Mean Salaries:\n",
      "+-----------+-----------------+\n",
      "|Departments|      avg(Salary)|\n",
      "+-----------+-----------------+\n",
      "|        IOT|6666.666666666667|\n",
      "|         CV|           4000.0|\n",
      "|         DL|           2250.0|\n",
      "|         ML|          12500.0|\n",
      "+-----------+-----------------+\n",
      "\n"
     ]
    }
   ],
   "source": [
    "'''\n",
    "group by departments which gives maximum salary \n",
    "\n",
    "sum,mean,max,count etc. are aggregate functions!\n",
    "\n",
    "'''\n",
    "df_pyspark.groupBy('Departments').sum().show()\n",
    "\n",
    "print(\"Mean Salaries:\")\n",
    "\n",
    "df_pyspark.groupBy('Departments').mean().show()"
   ]
  },
  {
   "cell_type": "code",
   "execution_count": 16,
   "id": "df4e2b9d",
   "metadata": {},
   "outputs": [
    {
     "name": "stdout",
     "output_type": "stream",
     "text": [
      "+-----------+-----+\n",
      "|Departments|count|\n",
      "+-----------+-----+\n",
      "|        IOT|    3|\n",
      "|         CV|    1|\n",
      "|         DL|    2|\n",
      "|         ML|    4|\n",
      "+-----------+-----+\n",
      "\n"
     ]
    }
   ],
   "source": [
    "'''\n",
    "How many number of propler are working in each department?\n",
    "'''\n",
    "df_pyspark.groupBy('Departments').count().show()"
   ]
  },
  {
   "cell_type": "code",
   "execution_count": 17,
   "id": "98e70bb3",
   "metadata": {},
   "outputs": [
    {
     "name": "stdout",
     "output_type": "stream",
     "text": [
      "+-----------+\n",
      "|sum(Salary)|\n",
      "+-----------+\n",
      "|      78500|\n",
      "+-----------+\n",
      "\n"
     ]
    }
   ],
   "source": [
    "##method-2 applying direct aggregate\n",
    "\n",
    "'''\n",
    "sum of all salaries\n",
    "'''\n",
    "\n",
    "df_pyspark.agg({'Salary':'sum'}).show()"
   ]
  },
  {
   "cell_type": "code",
   "execution_count": 18,
   "id": "677c23cd",
   "metadata": {},
   "outputs": [
    {
     "name": "stdout",
     "output_type": "stream",
     "text": [
      "+-----------+-----------+\n",
      "|Departments|min(Salary)|\n",
      "+-----------+-----------+\n",
      "|        IOT|       5000|\n",
      "|         CV|       4000|\n",
      "|         DL|       2000|\n",
      "|         ML|       3000|\n",
      "+-----------+-----------+\n",
      "\n"
     ]
    }
   ],
   "source": [
    "'''\n",
    "find out minimum salaries by department\n",
    "'''\n",
    "df_pyspark.groupBy('Departments').min().show()"
   ]
  },
  {
   "cell_type": "code",
   "execution_count": 19,
   "id": "412fa4c3",
   "metadata": {},
   "outputs": [
    {
     "name": "stdout",
     "output_type": "stream",
     "text": [
      "+------+-----------+\n",
      "|  Name|min(Salary)|\n",
      "+------+-----------+\n",
      "|   Tom|       2000|\n",
      "| Sunny|      12000|\n",
      "|   Jom|       3000|\n",
      "|Mahesh|       2500|\n",
      "+------+-----------+\n",
      "\n"
     ]
    }
   ],
   "source": [
    "'''\n",
    "find out minimum salaries by Names\n",
    "'''\n",
    "df_pyspark.groupBy('Name').min().show()"
   ]
  },
  {
   "cell_type": "code",
   "execution_count": null,
   "id": "76c12868",
   "metadata": {},
   "outputs": [],
   "source": []
  }
 ],
 "metadata": {
  "kernelspec": {
   "display_name": "Python 3 (ipykernel)",
   "language": "python",
   "name": "python3"
  },
  "language_info": {
   "codemirror_mode": {
    "name": "ipython",
    "version": 3
   },
   "file_extension": ".py",
   "mimetype": "text/x-python",
   "name": "python",
   "nbconvert_exporter": "python",
   "pygments_lexer": "ipython3",
   "version": "3.9.7"
  }
 },
 "nbformat": 4,
 "nbformat_minor": 5
}
