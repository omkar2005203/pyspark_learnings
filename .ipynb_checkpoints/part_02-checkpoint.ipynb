{
 "cells": [
  {
   "cell_type": "code",
   "execution_count": 16,
   "id": "3edfd305",
   "metadata": {},
   "outputs": [],
   "source": [
    "import pyspark\n",
    "from pyspark.sql import SparkSession"
   ]
  },
  {
   "cell_type": "code",
   "execution_count": 17,
   "id": "25f8d0f1",
   "metadata": {},
   "outputs": [],
   "source": [
    "spark = SparkSession.builder.appName('Part2').getOrCreate()"
   ]
  },
  {
   "cell_type": "code",
   "execution_count": 18,
   "id": "b6572fa7",
   "metadata": {},
   "outputs": [
    {
     "data": {
      "text/html": [
       "\n",
       "            <div>\n",
       "                <p><b>SparkSession - in-memory</b></p>\n",
       "                \n",
       "        <div>\n",
       "            <p><b>SparkContext</b></p>\n",
       "\n",
       "            <p><a href=\"http://DESKTOP-0V1V5PC:4040\">Spark UI</a></p>\n",
       "\n",
       "            <dl>\n",
       "              <dt>Version</dt>\n",
       "                <dd><code>v3.3.1</code></dd>\n",
       "              <dt>Master</dt>\n",
       "                <dd><code>local[2]</code></dd>\n",
       "              <dt>AppName</dt>\n",
       "                <dd><code>Part2</code></dd>\n",
       "            </dl>\n",
       "        </div>\n",
       "        \n",
       "            </div>\n",
       "        "
      ],
      "text/plain": [
       "<pyspark.sql.session.SparkSession at 0x1dea8214d30>"
      ]
     },
     "execution_count": 18,
     "metadata": {},
     "output_type": "execute_result"
    }
   ],
   "source": [
    "spark"
   ]
  },
  {
   "cell_type": "code",
   "execution_count": 6,
   "id": "d65263f1",
   "metadata": {},
   "outputs": [],
   "source": [
    "df_pyspark = spark.read.csv('data_new.csv',header=True,inferSchema=True)"
   ]
  },
  {
   "cell_type": "code",
   "execution_count": 7,
   "id": "26e7c580",
   "metadata": {},
   "outputs": [
    {
     "name": "stdout",
     "output_type": "stream",
     "text": [
      "+----+----+----------+------+\n",
      "|Name| Age|Experience|Salary|\n",
      "+----+----+----------+------+\n",
      "| Tom|  23|         2|300000|\n",
      "| Yom|  34|        10| 40000|\n",
      "|null|null|      null|  null|\n",
      "| Lom|  45|        20| 45000|\n",
      "| Som|null|      null|120000|\n",
      "|null|  56|        10|380000|\n",
      "|null|  36|      null|  null|\n",
      "+----+----+----------+------+\n",
      "\n"
     ]
    }
   ],
   "source": [
    "df_pyspark.show()"
   ]
  },
  {
   "cell_type": "code",
   "execution_count": 8,
   "id": "cc2bc1b3",
   "metadata": {},
   "outputs": [
    {
     "name": "stdout",
     "output_type": "stream",
     "text": [
      "+----+----------+------+\n",
      "| Age|Experience|Salary|\n",
      "+----+----------+------+\n",
      "|  23|         2|300000|\n",
      "|  34|        10| 40000|\n",
      "|null|      null|  null|\n",
      "|  45|        20| 45000|\n",
      "|null|      null|120000|\n",
      "|  56|        10|380000|\n",
      "|  36|      null|  null|\n",
      "+----+----------+------+\n",
      "\n"
     ]
    }
   ],
   "source": [
    "#dropping feature or column\n",
    "df_pyspark.drop('Name').show()"
   ]
  },
  {
   "cell_type": "code",
   "execution_count": 9,
   "id": "657e6712",
   "metadata": {},
   "outputs": [
    {
     "name": "stdout",
     "output_type": "stream",
     "text": [
      "+----+---+----------+------+\n",
      "|Name|Age|Experience|Salary|\n",
      "+----+---+----------+------+\n",
      "| Tom| 23|         2|300000|\n",
      "| Yom| 34|        10| 40000|\n",
      "| Lom| 45|        20| 45000|\n",
      "+----+---+----------+------+\n",
      "\n"
     ]
    }
   ],
   "source": [
    "# dropping null rows\n",
    "df_pyspark.na.drop().show()\n"
   ]
  },
  {
   "cell_type": "code",
   "execution_count": 10,
   "id": "b8cdcae1",
   "metadata": {},
   "outputs": [
    {
     "name": "stdout",
     "output_type": "stream",
     "text": [
      "+----+----+----------+------+\n",
      "|Name| Age|Experience|Salary|\n",
      "+----+----+----------+------+\n",
      "| Tom|  23|         2|300000|\n",
      "| Yom|  34|        10| 40000|\n",
      "|null|null|      null|  null|\n",
      "| Lom|  45|        20| 45000|\n",
      "| Som|null|      null|120000|\n",
      "|null|  56|        10|380000|\n",
      "|null|  36|      null|  null|\n",
      "+----+----+----------+------+\n",
      "\n",
      "+----+----+----------+------+\n",
      "|Name| Age|Experience|Salary|\n",
      "+----+----+----------+------+\n",
      "| Tom|  23|         2|300000|\n",
      "| Yom|  34|        10| 40000|\n",
      "| Lom|  45|        20| 45000|\n",
      "| Som|null|      null|120000|\n",
      "|null|  56|        10|380000|\n",
      "|null|  36|      null|  null|\n",
      "+----+----+----------+------+\n",
      "\n"
     ]
    }
   ],
   "source": [
    "# use of how parameter\n",
    "'''\n",
    "if you want to drop all rows that contain entire null value then use 'all'\n",
    "'''\n",
    "\n",
    "df_pyspark.show()\n",
    "\n",
    "df_pyspark.na.drop(how='all').show()"
   ]
  },
  {
   "cell_type": "code",
   "execution_count": 11,
   "id": "388ed17d",
   "metadata": {},
   "outputs": [
    {
     "name": "stdout",
     "output_type": "stream",
     "text": [
      "+----+----+----------+------+\n",
      "|Name| Age|Experience|Salary|\n",
      "+----+----+----------+------+\n",
      "| Tom|  23|         2|300000|\n",
      "| Yom|  34|        10| 40000|\n",
      "|null|null|      null|  null|\n",
      "| Lom|  45|        20| 45000|\n",
      "| Som|null|      null|120000|\n",
      "|null|  56|        10|380000|\n",
      "|null|  36|      null|  null|\n",
      "+----+----+----------+------+\n",
      "\n",
      "+----+---+----------+------+\n",
      "|Name|Age|Experience|Salary|\n",
      "+----+---+----------+------+\n",
      "| Tom| 23|         2|300000|\n",
      "| Yom| 34|        10| 40000|\n",
      "| Lom| 45|        20| 45000|\n",
      "+----+---+----------+------+\n",
      "\n"
     ]
    }
   ],
   "source": [
    "'''\n",
    "if you want to drop all rows that contain atleast one or more null value then use 'any'\n",
    "'''\n",
    "\n",
    "df_pyspark.show()\n",
    "\n",
    "df_pyspark.na.drop(how='any').show()"
   ]
  },
  {
   "cell_type": "code",
   "execution_count": 12,
   "id": "bdcdbc44",
   "metadata": {},
   "outputs": [
    {
     "name": "stdout",
     "output_type": "stream",
     "text": [
      "+----+----+----------+------+\n",
      "|Name| Age|Experience|Salary|\n",
      "+----+----+----------+------+\n",
      "| Tom|  23|         2|300000|\n",
      "| Yom|  34|        10| 40000|\n",
      "|null|null|      null|  null|\n",
      "| Lom|  45|        20| 45000|\n",
      "| Som|null|      null|120000|\n",
      "|null|  56|        10|380000|\n",
      "|null|  36|      null|  null|\n",
      "+----+----+----------+------+\n",
      "\n",
      "+----+---+----------+------+\n",
      "|Name|Age|Experience|Salary|\n",
      "+----+---+----------+------+\n",
      "| Tom| 23|         2|300000|\n",
      "| Yom| 34|        10| 40000|\n",
      "| Lom| 45|        20| 45000|\n",
      "|null| 56|        10|380000|\n",
      "+----+---+----------+------+\n",
      "\n"
     ]
    }
   ],
   "source": [
    "'''\n",
    "thresh:\n",
    "it will check keep row record with non null values threshold and delete remaining ones for example if thresh=3 then in a rows it will\n",
    "keep on those that has 3 non null values and delete remaining null records.\n",
    "'''\n",
    "\n",
    "df_pyspark.show()\n",
    "\n",
    "df_pyspark.na.drop(how='any',thresh=3).show()\n"
   ]
  },
  {
   "cell_type": "code",
   "execution_count": 13,
   "id": "57893be8",
   "metadata": {},
   "outputs": [
    {
     "name": "stdout",
     "output_type": "stream",
     "text": [
      "+----+----+----------+------+\n",
      "|Name| Age|Experience|Salary|\n",
      "+----+----+----------+------+\n",
      "| Tom|  23|         2|300000|\n",
      "| Yom|  34|        10| 40000|\n",
      "|null|null|      null|  null|\n",
      "| Lom|  45|        20| 45000|\n",
      "| Som|null|      null|120000|\n",
      "|null|  56|        10|380000|\n",
      "|null|  36|      null|  null|\n",
      "+----+----+----------+------+\n",
      "\n",
      "+----+---+----------+------+\n",
      "|Name|Age|Experience|Salary|\n",
      "+----+---+----------+------+\n",
      "| Tom| 23|         2|300000|\n",
      "| Yom| 34|        10| 40000|\n",
      "| Lom| 45|        20| 45000|\n",
      "|null| 56|        10|380000|\n",
      "+----+---+----------+------+\n",
      "\n"
     ]
    }
   ],
   "source": [
    "#subset: where in particular 'column' if there is null value then whole record in row is deleted.\n",
    "\n",
    "\n",
    "df_pyspark.show()\n",
    "\n",
    "df_pyspark.na.drop(how='any',subset=['Experience']).show()"
   ]
  },
  {
   "cell_type": "code",
   "execution_count": 14,
   "id": "5c4c2af2",
   "metadata": {},
   "outputs": [
    {
     "name": "stdout",
     "output_type": "stream",
     "text": [
      "+--------------+----+----------+------+\n",
      "|          Name| Age|Experience|Salary|\n",
      "+--------------+----+----------+------+\n",
      "|           Tom|  23|         2|300000|\n",
      "|           Yom|  34|        10| 40000|\n",
      "|Missing values|null|      null|  null|\n",
      "|           Lom|  45|        20| 45000|\n",
      "|           Som|null|      null|120000|\n",
      "|Missing values|  56|        10|380000|\n",
      "|Missing values|  36|      null|  null|\n",
      "+--------------+----+----------+------+\n",
      "\n"
     ]
    }
   ],
   "source": [
    "## handling missing values\n",
    "\n",
    "df_pyspark.na.fill('Missing values').show()"
   ]
  },
  {
   "cell_type": "code",
   "execution_count": 20,
   "id": "119b3c8a",
   "metadata": {},
   "outputs": [
    {
     "name": "stdout",
     "output_type": "stream",
     "text": [
      "+----+----+----------+------+\n",
      "|Name| Age|Experience|Salary|\n",
      "+----+----+----------+------+\n",
      "| Tom|  23|         2|300000|\n",
      "| Yom|  34|        10| 40000|\n",
      "|null|null|      null|  null|\n",
      "| Lom|  45|        20| 45000|\n",
      "| Som|null|      null|120000|\n",
      "|null|  56|        10|380000|\n",
      "|null|  36|      null|  null|\n",
      "+----+----+----------+------+\n",
      "\n",
      "+--------------+----+----------+------+\n",
      "|          Name| Age|Experience|Salary|\n",
      "+--------------+----+----------+------+\n",
      "|           Tom|  23|         2|300000|\n",
      "|           Yom|  34|        10| 40000|\n",
      "|Missing values|null|      null|  null|\n",
      "|           Lom|  45|        20| 45000|\n",
      "|           Som|null|      null|120000|\n",
      "|Missing values|  56|        10|380000|\n",
      "|Missing values|  36|      null|  null|\n",
      "+--------------+----+----------+------+\n",
      "\n"
     ]
    }
   ],
   "source": [
    "## handling missing value on a particular column\n",
    "df_pyspark.show()\n",
    "df_pyspark.na.fill('Missing values','Name').show()"
   ]
  },
  {
   "cell_type": "code",
   "execution_count": 15,
   "id": "1c4bec79",
   "metadata": {},
   "outputs": [
    {
     "name": "stdout",
     "output_type": "stream",
     "text": [
      "+--------------+---+----------+------+\n",
      "|          Name|Age|Experience|Salary|\n",
      "+--------------+---+----------+------+\n",
      "|           Tom| 23|         2|300000|\n",
      "|           Yom| 34|        10| 40000|\n",
      "|Not availablle|  0|         0|     0|\n",
      "|           Lom| 45|        20| 45000|\n",
      "|           Som|  0|         0|120000|\n",
      "|Not availablle| 56|        10|380000|\n",
      "|Not availablle| 36|         0|     0|\n",
      "+--------------+---+----------+------+\n",
      "\n"
     ]
    }
   ],
   "source": [
    "df_pyspark.na.fill({'Name':'Not availablle','Age':0,'Experience':0,'Salary':0}).show()"
   ]
  },
  {
   "cell_type": "code",
   "execution_count": 21,
   "id": "1ad4eeef",
   "metadata": {},
   "outputs": [],
   "source": [
    "### use of imputer class to replace null values with mean\n",
    "from pyspark.ml.feature import Imputer\n",
    "\n",
    "imputer = Imputer(inputCols=['Age','Experience','Salary'],outputCols=[ \"{}_imputed\".format(c) for c in ['Age','Experience','Salary']]).setStrategy(\"mean\")\n",
    "\n",
    "# imputer = Imputer(inputCols=['Age','Experience','Salary'],outputCols=[ \"{}_imputed\".format(c) for c in ['Age','Experience','Salary']]).setStrategy(\"median\")"
   ]
  },
  {
   "cell_type": "code",
   "execution_count": 22,
   "id": "8604fd32",
   "metadata": {},
   "outputs": [
    {
     "name": "stdout",
     "output_type": "stream",
     "text": [
      "+----+----+----------+------+-----------+------------------+--------------+\n",
      "|Name| Age|Experience|Salary|Age_imputed|Experience_imputed|Salary_imputed|\n",
      "+----+----+----------+------+-----------+------------------+--------------+\n",
      "| Tom|  23|         2|300000|         23|                 2|        300000|\n",
      "| Yom|  34|        10| 40000|         34|                10|         40000|\n",
      "|null|null|      null|  null|         38|                10|        177000|\n",
      "| Lom|  45|        20| 45000|         45|                20|         45000|\n",
      "| Som|null|      null|120000|         38|                10|        120000|\n",
      "|null|  56|        10|380000|         56|                10|        380000|\n",
      "|null|  36|      null|  null|         36|                10|        177000|\n",
      "+----+----+----------+------+-----------+------------------+--------------+\n",
      "\n"
     ]
    }
   ],
   "source": [
    "imputer.fit(df_pyspark).transform(df_pyspark).show()"
   ]
  }
 ],
 "metadata": {
  "kernelspec": {
   "display_name": "Python 3 (ipykernel)",
   "language": "python",
   "name": "python3"
  },
  "language_info": {
   "codemirror_mode": {
    "name": "ipython",
    "version": 3
   },
   "file_extension": ".py",
   "mimetype": "text/x-python",
   "name": "python",
   "nbconvert_exporter": "python",
   "pygments_lexer": "ipython3",
   "version": "3.9.7"
  }
 },
 "nbformat": 4,
 "nbformat_minor": 5
}
