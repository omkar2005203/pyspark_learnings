{
 "cells": [
  {
   "cell_type": "code",
   "execution_count": 1,
   "id": "bcaaa0a2",
   "metadata": {},
   "outputs": [],
   "source": [
    "import pyspark\n",
    "from pyspark.sql import SparkSession"
   ]
  },
  {
   "cell_type": "code",
   "execution_count": 4,
   "id": "80705eb0",
   "metadata": {},
   "outputs": [],
   "source": [
    "spark = SparkSession.builder.appName(\"part3\").getOrCreate()"
   ]
  },
  {
   "cell_type": "code",
   "execution_count": 5,
   "id": "a809b445",
   "metadata": {},
   "outputs": [
    {
     "data": {
      "text/html": [
       "\n",
       "            <div>\n",
       "                <p><b>SparkSession - in-memory</b></p>\n",
       "                \n",
       "        <div>\n",
       "            <p><b>SparkContext</b></p>\n",
       "\n",
       "            <p><a href=\"http://DESKTOP-0V1V5PC:4040\">Spark UI</a></p>\n",
       "\n",
       "            <dl>\n",
       "              <dt>Version</dt>\n",
       "                <dd><code>v3.3.1</code></dd>\n",
       "              <dt>Master</dt>\n",
       "                <dd><code>local[2]</code></dd>\n",
       "              <dt>AppName</dt>\n",
       "                <dd><code>part3</code></dd>\n",
       "            </dl>\n",
       "        </div>\n",
       "        \n",
       "            </div>\n",
       "        "
      ],
      "text/plain": [
       "<pyspark.sql.session.SparkSession at 0x2022f806ac0>"
      ]
     },
     "execution_count": 5,
     "metadata": {},
     "output_type": "execute_result"
    }
   ],
   "source": [
    "spark"
   ]
  },
  {
   "cell_type": "code",
   "execution_count": 6,
   "id": "69dfd39d",
   "metadata": {},
   "outputs": [],
   "source": [
    "df_pyspark = spark.read.csv('test_one.csv',header=True,inferSchema=True)"
   ]
  },
  {
   "cell_type": "code",
   "execution_count": 7,
   "id": "67457ccb",
   "metadata": {},
   "outputs": [
    {
     "name": "stdout",
     "output_type": "stream",
     "text": [
      "+-----+----+----------+------+\n",
      "| Name|Age |Experience|Salary|\n",
      "+-----+----+----------+------+\n",
      "|  Tom|  31|        10| 30000|\n",
      "|Jerry|  30|         8| 45000|\n",
      "| Oggy|  20|         4| 25000|\n",
      "|  Lom|  24|         3| 20000|\n",
      "| Jake|  21|         1| 15000|\n",
      "| John|  23|         2| 18000|\n",
      "+-----+----+----------+------+\n",
      "\n"
     ]
    }
   ],
   "source": [
    "df_pyspark.show()"
   ]
  },
  {
   "cell_type": "code",
   "execution_count": 18,
   "id": "9c67622b",
   "metadata": {},
   "outputs": [
    {
     "name": "stdout",
     "output_type": "stream",
     "text": [
      "+----+----+----------+------+\n",
      "|Name|Age |Experience|Salary|\n",
      "+----+----+----------+------+\n",
      "| Lom|  24|         3| 20000|\n",
      "|Jake|  21|         1| 15000|\n",
      "|John|  23|         2| 18000|\n",
      "+----+----+----------+------+\n",
      "\n"
     ]
    }
   ],
   "source": [
    "##filter operations\n",
    "\n",
    "'''\n",
    "salary of people less than or equal to 20000\n",
    "'''\n",
    "\n",
    "df_pyspark.filter(\"Salary<=20000\").show()"
   ]
  },
  {
   "cell_type": "code",
   "execution_count": 21,
   "id": "8c4c7125",
   "metadata": {},
   "outputs": [
    {
     "name": "stdout",
     "output_type": "stream",
     "text": [
      "+----+----+\n",
      "|Name|Age |\n",
      "+----+----+\n",
      "| Lom|  24|\n",
      "|Jake|  21|\n",
      "|John|  23|\n",
      "+----+----+\n",
      "\n"
     ]
    }
   ],
   "source": [
    "## Select two columns\n",
    "df_pyspark.filter(\"Salary<=20000\").select(['Name','Age ']).show()"
   ]
  },
  {
   "cell_type": "code",
   "execution_count": 20,
   "id": "d17b1b21",
   "metadata": {},
   "outputs": [
    {
     "data": {
      "text/plain": [
       "['Name', 'Age ', 'Experience', 'Salary']"
      ]
     },
     "execution_count": 20,
     "metadata": {},
     "output_type": "execute_result"
    }
   ],
   "source": [
    "df_pyspark.columns"
   ]
  },
  {
   "cell_type": "code",
   "execution_count": 23,
   "id": "8a6201fd",
   "metadata": {},
   "outputs": [
    {
     "name": "stdout",
     "output_type": "stream",
     "text": [
      "+----+----+----------+------+\n",
      "|Name|Age |Experience|Salary|\n",
      "+----+----+----------+------+\n",
      "| Lom|  24|         3| 20000|\n",
      "|Jake|  21|         1| 15000|\n",
      "|John|  23|         2| 18000|\n",
      "+----+----+----------+------+\n",
      "\n"
     ]
    }
   ],
   "source": [
    "### method 2 for having multiple conditions\n",
    "\n",
    "df_pyspark.filter((df_pyspark['Salary']<=20000) & (df_pyspark['Salary']>=15000) ).show()\n"
   ]
  },
  {
   "cell_type": "code",
   "execution_count": 24,
   "id": "b33e938e",
   "metadata": {},
   "outputs": [
    {
     "name": "stdout",
     "output_type": "stream",
     "text": [
      "+-----+----+----------+------+\n",
      "| Name|Age |Experience|Salary|\n",
      "+-----+----+----------+------+\n",
      "|  Tom|  31|        10| 30000|\n",
      "|Jerry|  30|         8| 45000|\n",
      "| Oggy|  20|         4| 25000|\n",
      "|  Lom|  24|         3| 20000|\n",
      "| Jake|  21|         1| 15000|\n",
      "| John|  23|         2| 18000|\n",
      "+-----+----+----------+------+\n",
      "\n"
     ]
    }
   ],
   "source": [
    "df_pyspark.filter((df_pyspark['Salary']<=20000) | (df_pyspark['Salary']>=15000) ).show()"
   ]
  },
  {
   "cell_type": "code",
   "execution_count": 25,
   "id": "ee1038b1",
   "metadata": {},
   "outputs": [
    {
     "name": "stdout",
     "output_type": "stream",
     "text": [
      "+-----+----+----------+------+\n",
      "| Name|Age |Experience|Salary|\n",
      "+-----+----+----------+------+\n",
      "|  Tom|  31|        10| 30000|\n",
      "|Jerry|  30|         8| 45000|\n",
      "| Oggy|  20|         4| 25000|\n",
      "+-----+----+----------+------+\n",
      "\n"
     ]
    }
   ],
   "source": [
    "### not operation or inverse operation on conditon\n",
    "df_pyspark.filter(~(df_pyspark['Salary']<=20000)).show()"
   ]
  },
  {
   "cell_type": "code",
   "execution_count": null,
   "id": "71d133f3",
   "metadata": {},
   "outputs": [],
   "source": [
    "##pyspark group by and aggregate functions\n"
   ]
  }
 ],
 "metadata": {
  "kernelspec": {
   "display_name": "Python 3 (ipykernel)",
   "language": "python",
   "name": "python3"
  },
  "language_info": {
   "codemirror_mode": {
    "name": "ipython",
    "version": 3
   },
   "file_extension": ".py",
   "mimetype": "text/x-python",
   "name": "python",
   "nbconvert_exporter": "python",
   "pygments_lexer": "ipython3",
   "version": "3.9.7"
  }
 },
 "nbformat": 4,
 "nbformat_minor": 5
}
